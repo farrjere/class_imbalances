{
 "cells": [
  {
   "cell_type": "markdown",
   "metadata": {
    "collapsed": true
   },
   "source": [
    "# Class Imbalances and Software Quality\n",
    "* [Class Imbalances](#classimbheader)\n",
    "* [Software Quality](#softwarequalityheader)\n",
    "# Class Imbalances<a name=\"classimbheader\"></a>\n",
    "## Background\n",
    "## \n",
    "## References\n",
    "1. Nitesh V. Chawla, Kevin W. Bowyer, Lawrence O. Hall, W. Philip Kegelmeyer: SMOTE: Synthetic Minority Over-Sampling Technique. Journal of Artificial Intelligence Reseach 16 (2002) 321-357. [https://arxiv.org/pdf/1106.1813.pdf](https://arxiv.org/pdf/1106.1813.pdf)\n",
    "\n",
    "2. Hui Han, Wen-Yuan Wang, Bing-Huan Mao: Borderline-SMOTE: A New Over-Sampling Method in Imbalanced Data Sets Learning. Advances in Intelligent Computing, International Conference on Intelligent Computing (2005). [https://sci2s.ugr.es/keel/keel-dataset/pdfs/2005-Han-LNCS.pdf](https://sci2s.ugr.es/keel/keel-dataset/pdfs/2005-Han-LNCS.pdf)\n",
    "\n",
    "3. Guillaume Lemaitre, Fernando Nogueira, Christos K. Aridas: Imbalanced-learn: A Python Toolbox to Tackle the Curse of Imbalanced Datasets in Machine Learning. Journal of Machine Learning Research 18 (2017) 1-5. [http://www.jmlr.org/papers/volume18/16-365/16-365.pdf](http://www.jmlr.org/papers/volume18/16-365/16-365.pdf)\n",
    "\n",
    "# Software Quality<a name=\"softwarequalityheader\"></a>\n",
    "sdfsadfasdf\n",
    "dafsasdfasdfasdf\n",
    "sdfasdfasdf"
   ]
  },
  {
   "cell_type": "code",
   "execution_count": null,
   "metadata": {},
   "outputs": [],
   "source": []
  }
 ],
 "metadata": {
  "kernelspec": {
   "display_name": "Python 2",
   "language": "python",
   "name": "python2"
  },
  "language_info": {
   "codemirror_mode": {
    "name": "ipython",
    "version": 2
   },
   "file_extension": ".py",
   "mimetype": "text/x-python",
   "name": "python",
   "nbconvert_exporter": "python",
   "pygments_lexer": "ipython2",
   "version": "2.7.6"
  }
 },
 "nbformat": 4,
 "nbformat_minor": 0
}
